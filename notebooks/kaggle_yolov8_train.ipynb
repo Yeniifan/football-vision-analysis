{
 "cells": [
  {
   "cell_type": "markdown",
   "id": "28f4d780",
   "metadata": {},
   "source": [
    "# YOLOv8 Custom Training on Kaggle"
   ]
  },
  {
   "cell_type": "code",
   "execution_count": null,
   "id": "fdce5825",
   "metadata": {},
   "outputs": [],
   "source": [
    "\n",
    "!pip install ultralytics opencv-python-headless --quiet\n"
   ]
  },
  {
   "cell_type": "code",
   "execution_count": null,
   "id": "8c338096",
   "metadata": {},
   "outputs": [],
   "source": [
    "\n",
    "from ultralytics import YOLO\n",
    "import os\n",
    "\n",
    "# 定義路徑\n",
    "DATA_DIR = '/kaggle/input/football-custom-yolov8-dataset'  # 替換 Dataset 名稱\n",
    "DATA_YAML = os.path.join(DATA_DIR, 'data.yaml')\n",
    "\n",
    "assert os.path.exists(DATA_YAML), f\"找不到 data.yaml: {DATA_YAML}\"\n"
   ]
  },
  {
   "cell_type": "code",
   "execution_count": null,
   "id": "c4b6b89e",
   "metadata": {},
   "outputs": [],
   "source": [
    "\n",
    "# 開始訓練\n",
    "model = YOLO('yolov8n.pt')  # 可換 yolov8s.pt 或 yolov8m.pt \n",
    "model.train(data=DATA_YAML, epochs=50, imgsz=640, batch=16, project=\"/kaggle/working\", name=\"yolo_custom\")\n"
   ]
  },
  {
   "cell_type": "code",
   "execution_count": null,
   "id": "29422851",
   "metadata": {},
   "outputs": [],
   "source": [
    "\n",
    "# 驗證模型\n",
    "metrics = model.val()\n",
    "print(f\"mAP@0.5: {metrics.box.map50:.4f}\")\n"
   ]
  },
  {
   "cell_type": "code",
   "execution_count": null,
   "id": "f78e3f7b",
   "metadata": {},
   "outputs": [],
   "source": [
    "\n",
    "# 顯示前幾張 validation 預測結果\n",
    "from glob import glob\n",
    "import matplotlib.pyplot as plt\n",
    "\n",
    "val_images = glob(f\"{DATA_DIR}/valid/images/*.jpg\")[:5]\n",
    "for img_path in val_images:\n",
    "    results = model(img_path)\n",
    "    results[0].show()\n"
   ]
  },
  {
   "cell_type": "code",
   "execution_count": null,
   "id": "c878c635",
   "metadata": {},
   "outputs": [],
   "source": [
    "\n",
    "print(\"模型已儲存於: /kaggle/working/yolo_custom/weights/best.pt\")\n"
   ]
  }
 ],
 "metadata": {
  "language_info": {
   "name": "python"
  }
 },
 "nbformat": 4,
 "nbformat_minor": 5
}
