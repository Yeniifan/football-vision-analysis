{
 "cells": [
  {
   "cell_type": "markdown",
   "id": "dbe40744",
   "metadata": {},
   "source": [
    "# Compare YOLOv8 Pretrained vs Fine-Tuned Models"
   ]
  },
  {
   "cell_type": "code",
   "execution_count": null,
   "id": "5ddb63f2",
   "metadata": {},
   "outputs": [],
   "source": [
    "\n",
    "!pip install ultralytics opencv-python-headless --quiet\n"
   ]
  },
  {
   "cell_type": "code",
   "execution_count": null,
   "id": "bf8806c8",
   "metadata": {},
   "outputs": [],
   "source": [
    "\n",
    "from ultralytics import YOLO\n",
    "import cv2\n",
    "import matplotlib.pyplot as plt\n",
    "from glob import glob\n",
    "import os\n"
   ]
  },
  {
   "cell_type": "code",
   "execution_count": null,
   "id": "a4d4d0d6",
   "metadata": {},
   "outputs": [],
   "source": [
    "\n",
    "# 修改為你的資料集與模型路徑\n",
    "DATASET_DIR = \"/kaggle/input/football-custom-yolov8-dataset\"\n",
    "PRETRAINED_MODEL = \"yolov8n.pt\"\n",
    "FINETUNED_MODEL = \"/kaggle/input/bestpt-output/yolo_custom/weights/best.pt\"\n",
    "\n",
    "VALID_IMAGES = glob(f\"{DATASET_DIR}/valid/images/*.jpg\")[:10]  # 拿 10 張圖片測試\n"
   ]
  },
  {
   "cell_type": "code",
   "execution_count": null,
   "id": "2e002d38",
   "metadata": {},
   "outputs": [],
   "source": [
    "\n",
    "pretrained = YOLO(PRETRAINED_MODEL)\n",
    "finetuned = YOLO(FINETUNED_MODEL)\n"
   ]
  },
  {
   "cell_type": "code",
   "execution_count": null,
   "id": "bff0cb4a",
   "metadata": {},
   "outputs": [],
   "source": [
    "\n",
    "# 比較兩模型在每張圖片上的結果\n",
    "for img_path in VALID_IMAGES:\n",
    "    img = cv2.imread(img_path)\n",
    "    img = cv2.cvtColor(img, cv2.COLOR_BGR2RGB)\n",
    "\n",
    "    pre_result = pretrained(img)[0].plot()\n",
    "    fine_result = finetuned(img)[0].plot()\n",
    "\n",
    "    fig, ax = plt.subplots(1, 2, figsize=(14, 6))\n",
    "    ax[0].imshow(pre_result)\n",
    "    ax[0].set_title(\"Pretrained YOLOv8n\")\n",
    "    ax[0].axis(\"off\")\n",
    "\n",
    "    ax[1].imshow(fine_result)\n",
    "    ax[1].set_title(\"Fine-Tuned YOLOv8\")\n",
    "    ax[1].axis(\"off\")\n",
    "\n",
    "    plt.suptitle(f\"Image: {os.path.basename(img_path)}\", fontsize=14)\n",
    "    plt.show()\n"
   ]
  },
  {
   "cell_type": "code",
   "execution_count": null,
   "id": "5f8dcbac",
   "metadata": {},
   "outputs": [],
   "source": [
    "\n",
    "print(\"📈 比較模型在 validation set 上的 mAP 成績\")\n",
    "\n",
    "pretrained_metrics = pretrained.val(data=os.path.join(DATASET_DIR, 'data.yaml'))\n",
    "finetuned_metrics = finetuned.val(data=os.path.join(DATASET_DIR, 'data.yaml'))\n",
    "\n",
    "print(f\"Pretrained YOLOv8n mAP@0.5: {pretrained_metrics.box.map50:.4f}\")\n",
    "print(f\"Fine-Tuned YOLOv8 mAP@0.5: {finetuned_metrics.box.map50:.4f}\")\n"
   ]
  }
 ],
 "metadata": {
  "language_info": {
   "name": "python"
  }
 },
 "nbformat": 4,
 "nbformat_minor": 5
}
