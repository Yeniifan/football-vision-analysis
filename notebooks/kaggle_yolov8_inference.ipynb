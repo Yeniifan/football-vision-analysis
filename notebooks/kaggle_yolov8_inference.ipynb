{
 "cells": [
  {
   "cell_type": "markdown",
   "id": "96ca3287",
   "metadata": {},
   "source": [
    "# YOLOv8 Inference on Custom Video (Kaggle)"
   ]
  },
  {
   "cell_type": "code",
   "execution_count": null,
   "id": "94c98bbb",
   "metadata": {},
   "outputs": [],
   "source": [
    "\n",
    "!pip install ultralytics opencv-python-headless --quiet\n"
   ]
  },
  {
   "cell_type": "code",
   "execution_count": null,
   "id": "f4cc8512",
   "metadata": {},
   "outputs": [],
   "source": [
    "\n",
    "from ultralytics import YOLO\n",
    "import cv2\n",
    "import os\n",
    "\n",
    "# 設定路徑\n",
    "MODEL_PATH = \"/kaggle/input/bestpt-output/yolo_custom/weights/best.pt\"  # 替換模型路徑\n",
    "VIDEO_PATH = \"/kaggle/input/demo-football-video/demo.mp4\"              # 替換影片路徑\n",
    "OUTPUT_VIDEO = \"/kaggle/working/output_detected.mp4\"\n",
    "\n",
    "# 載入模型\n",
    "model = YOLO(MODEL_PATH)\n"
   ]
  },
  {
   "cell_type": "code",
   "execution_count": null,
   "id": "84aa4d02",
   "metadata": {},
   "outputs": [],
   "source": [
    "\n",
    "cap = cv2.VideoCapture(VIDEO_PATH)\n",
    "width = int(cap.get(cv2.CAP_PROP_FRAME_WIDTH))\n",
    "height = int(cap.get(cv2.CAP_PROP_FRAME_HEIGHT))\n",
    "fps = cap.get(cv2.CAP_PROP_FPS)\n",
    "fourcc = cv2.VideoWriter_fourcc(*'mp4v')\n",
    "out = cv2.VideoWriter(OUTPUT_VIDEO, fourcc, fps, (width, height))\n",
    "\n",
    "frame_count = 0\n",
    "while cap.isOpened():\n",
    "    ret, frame = cap.read()\n",
    "    if not ret:\n",
    "        break\n",
    "    results = model(frame)[0]\n",
    "    annotated_frame = results.plot()\n",
    "    out.write(annotated_frame)\n",
    "    frame_count += 1\n",
    "    if frame_count % 30 == 0:\n",
    "        print(f\"Processed {frame_count} frames...\")\n",
    "\n",
    "cap.release()\n",
    "out.release()\n",
    "print(\"Inference complete! Video saved to:\", OUTPUT_VIDEO)\n"
   ]
  }
 ],
 "metadata": {
  "language_info": {
   "name": "python"
  }
 },
 "nbformat": 4,
 "nbformat_minor": 5
}
